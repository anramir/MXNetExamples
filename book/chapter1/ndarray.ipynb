{
 "cells": [
  {
   "cell_type": "code",
   "execution_count": null,
   "metadata": {
    "collapsed": true
   },
   "outputs": [],
   "source": [
    "import mxnet as mx\n",
    "from mxnet import nd"
   ]
  },
  {
   "cell_type": "markdown",
   "metadata": {},
   "source": [
    "Add same seed as example"
   ]
  },
  {
   "cell_type": "code",
   "execution_count": 2,
   "metadata": {},
   "outputs": [],
   "source": [
    "mx.random.seed(1)"
   ]
  },
  {
   "cell_type": "code",
   "execution_count": 3,
   "metadata": {},
   "outputs": [
    {
     "name": "stdout",
     "output_type": "stream",
     "text": [
      "\n[[9.2632829e-35 8.3657518e-43 9.2632869e-35 8.3657518e-43]\n [9.2632869e-35 8.3657518e-43 9.2632875e-35 8.3657518e-43]\n [0.0000000e+00 8.3657518e-43 0.0000000e+00 8.3657518e-43]]\n<NDArray 3x4 @cpu(0)>\n"
     ]
    }
   ],
   "source": [
    "print(nd.empty((3, 4)))"
   ]
  },
  {
   "cell_type": "code",
   "execution_count": 4,
   "metadata": {},
   "outputs": [
    {
     "name": "stdout",
     "output_type": "stream",
     "text": [
      "\n[[0. 0. 0. 0.]\n [0. 0. 0. 0.]\n [0. 0. 0. 0.]]\n<NDArray 3x4 @cpu(0)>\n"
     ]
    }
   ],
   "source": [
    "print(nd.zeros((3, 4)))"
   ]
  },
  {
   "cell_type": "code",
   "execution_count": 5,
   "metadata": {},
   "outputs": [
    {
     "name": "stdout",
     "output_type": "stream",
     "text": [
      "\n[[1. 1. 1. 1.]\n [1. 1. 1. 1.]\n [1. 1. 1. 1.]]\n<NDArray 3x4 @cpu(0)>\n"
     ]
    }
   ],
   "source": [
    "print(nd.ones((3,4)))"
   ]
  },
  {
   "cell_type": "code",
   "execution_count": 7,
   "metadata": {},
   "outputs": [
    {
     "name": "stdout",
     "output_type": "stream",
     "text": [
      "\n[[-1.306444    0.11287735 -2.6309924  -0.10713575]\n [ 0.31348404 -0.05735846 -1.1105994  -0.5765109 ]\n [-0.22899596  0.57960725  0.8124368   1.0448428 ]]\n<NDArray 3x4 @cpu(0)>\n"
     ]
    }
   ],
   "source": [
    "print(nd.random_normal(0, 1, shape=(3, 4)))"
   ]
  },
  {
   "cell_type": "code",
   "execution_count": 9,
   "metadata": {},
   "outputs": [
    {
     "name": "stdout",
     "output_type": "stream",
     "text": [
      "12\n(3, 4)\n"
     ]
    }
   ],
   "source": [
    "print(nd.empty((3, 4)).size)\n",
    "print(nd.empty((3, 4)).shape)"
   ]
  },
  {
   "cell_type": "code",
   "execution_count": 13,
   "metadata": {},
   "outputs": [
    {
     "name": "stdout",
     "output_type": "stream",
     "text": [
      "\n[[ 2.3923352  -1.2233835   0.58519     0.24148573]\n [ 1.0874441  -1.1646322  -0.15579285  0.2778769 ]\n [ 1.3224207   1.6976414   0.24266216  0.39777333]]\n<NDArray 3x4 @cpu(0)>\n\n[[1. 1. 1. 1.]\n [1. 1. 1. 1.]\n [1. 1. 1. 1.]]\n<NDArray 3x4 @cpu(0)>\n"
     ]
    }
   ],
   "source": [
    "x = nd.random_normal(0,1, shape=(3, 4))\n",
    "y = nd.ones((3,4))\n",
    "print(x)\n",
    "print(y)"
   ]
  },
  {
   "cell_type": "code",
   "execution_count": 14,
   "metadata": {},
   "outputs": [
    {
     "data": {
      "text/plain": [
       "\n[[ 3.3923352  -0.22338355  1.58519     1.2414857 ]\n [ 2.087444   -0.1646322   0.84420717  1.2778769 ]\n [ 2.3224206   2.6976414   1.2426622   1.3977733 ]]\n<NDArray 3x4 @cpu(0)>"
      ]
     },
     "execution_count": 14,
     "metadata": {},
     "output_type": "execute_result"
    }
   ],
   "source": [
    "x + y"
   ]
  },
  {
   "cell_type": "code",
   "execution_count": 15,
   "metadata": {},
   "outputs": [
    {
     "data": {
      "text/plain": [
       "\n[[ 2.3923352  -1.2233835   0.58519     0.24148573]\n [ 1.0874441  -1.1646322  -0.15579285  0.2778769 ]\n [ 1.3224207   1.6976414   0.24266216  0.39777333]]\n<NDArray 3x4 @cpu(0)>"
      ]
     },
     "execution_count": 15,
     "metadata": {},
     "output_type": "execute_result"
    }
   ],
   "source": [
    "x * y"
   ]
  },
  {
   "cell_type": "code",
   "execution_count": 16,
   "metadata": {},
   "outputs": [
    {
     "data": {
      "text/plain": [
       "\n[[1.9956273  1.9956273  1.9956273 ]\n [0.04489593 0.04489593 0.04489593]\n [3.6604974  3.6604974  3.6604974 ]]\n<NDArray 3x3 @cpu(0)>"
      ]
     },
     "execution_count": 16,
     "metadata": {},
     "output_type": "execute_result"
    }
   ],
   "source": [
    "nd.dot(x, y.T)"
   ]
  },
  {
   "cell_type": "markdown",
   "metadata": {},
   "source": [
    "In place operations"
   ]
  },
  {
   "cell_type": "code",
   "execution_count": 18,
   "metadata": {},
   "outputs": [
    {
     "name": "stdout",
     "output_type": "stream",
     "text": [
      "id(y) 2564499959648\nid(y) 2564504785584\n"
     ]
    }
   ],
   "source": [
    "print('id(y)', id(y))\n",
    "y = y + x\n",
    "print('id(y)', id(y))"
   ]
  },
  {
   "cell_type": "markdown",
   "metadata": {},
   "source": [
    ""
   ]
  },
  {
   "cell_type": "code",
   "execution_count": 19,
   "metadata": {},
   "outputs": [
    {
     "name": "stdout",
     "output_type": "stream",
     "text": [
      "id(y) 2564504785584\n"
     ]
    },
    {
     "name": "stdout",
     "output_type": "stream",
     "text": [
      "id(y) 2564504785584\n"
     ]
    }
   ],
   "source": [
    "print('id(y)', id(y))\n",
    "y[:] = y + x\n",
    "print('id(y)', id(y))"
   ]
  },
  {
   "cell_type": "markdown",
   "metadata": {},
   "source": [
    "This directly works over the same memory buffer"
   ]
  },
  {
   "cell_type": "code",
   "execution_count": 20,
   "metadata": {},
   "outputs": [
    {
     "data": {
      "text/plain": [
       "\n[[10.569341   -3.8935342   3.3407602   1.9659429 ]\n [ 5.3497763  -3.6585288   0.37682867  2.1115074 ]\n [ 6.2896824   7.7905655   1.9706488   2.591093  ]]\n<NDArray 3x4 @cpu(0)>"
      ]
     },
     "execution_count": 20,
     "metadata": {},
     "output_type": "execute_result"
    }
   ],
   "source": [
    "nd.elemwise_add(x, y, out=y)"
   ]
  },
  {
   "cell_type": "markdown",
   "metadata": {},
   "source": [
    "# Slicing"
   ]
  },
  {
   "cell_type": "code",
   "execution_count": 25,
   "metadata": {},
   "outputs": [
    {
     "data": {
      "text/plain": [
       "\n[[ 5.3497763  -3.6585288   0.37682867  2.1115074 ]\n [ 6.2896824   7.7905655   1.9706488   2.591093  ]]\n<NDArray 2x4 @cpu(0)>"
      ]
     },
     "execution_count": 25,
     "metadata": {},
     "output_type": "execute_result"
    }
   ],
   "source": [
    "y[1:3]"
   ]
  },
  {
   "cell_type": "code",
   "execution_count": 26,
   "metadata": {},
   "outputs": [
    {
     "name": "stdout",
     "output_type": "stream",
     "text": [
      "\n[[10.569341   10.          3.3407602   1.9659429 ]\n [ 5.3497763  -3.6585288   0.37682867  2.1115074 ]\n [ 6.2896824   7.7905655   1.9706488   2.591093  ]]\n<NDArray 3x4 @cpu(0)>\n"
     ]
    }
   ],
   "source": [
    "y[0, 1] = 10\n",
    "print(y)"
   ]
  },
  {
   "cell_type": "markdown",
   "metadata": {},
   "source": [
    "# Broadcasting"
   ]
  },
  {
   "cell_type": "code",
   "execution_count": 27,
   "metadata": {},
   "outputs": [
    {
     "name": "stdout",
     "output_type": "stream",
     "text": [
      "\n[[1. 2. 3.]\n [1. 2. 3.]\n [1. 2. 3.]]\n<NDArray 3x3 @cpu(0)>\n"
     ]
    }
   ],
   "source": [
    "a = nd.ones((3, 3))\n",
    "b = nd.arange(3)\n",
    "print(a + b)"
   ]
  },
  {
   "cell_type": "markdown",
   "metadata": {},
   "source": [
    "# Context"
   ]
  },
  {
   "cell_type": "code",
   "execution_count": 28,
   "metadata": {},
   "outputs": [
    {
     "data": {
      "text/plain": [
       "\n[[1. 1. 1.]\n [1. 1. 1.]\n [1. 1. 1.]]\n<NDArray 3x3 @gpu(0)>"
      ]
     },
     "execution_count": 28,
     "metadata": {},
     "output_type": "execute_result"
    }
   ],
   "source": [
    "m = nd.ones(shape=(3, 3), ctx=mx.gpu(0))\n",
    "m"
   ]
  },
  {
   "cell_type": "code",
   "execution_count": 31,
   "metadata": {},
   "outputs": [
    {
     "data": {
      "text/plain": [
       "\n[[1. 1. 1.]\n [1. 1. 1.]\n [1. 1. 1.]]\n<NDArray 3x3 @gpu(0)>"
      ]
     },
     "execution_count": 31,
     "metadata": {},
     "output_type": "execute_result"
    }
   ],
   "source": [
    "a_gpu = a.copyto(mx.gpu(0))\n",
    "a_gpu"
   ]
  },
  {
   "cell_type": "code",
   "execution_count": 32,
   "metadata": {},
   "outputs": [
    {
     "data": {
      "text/plain": [
       "\n[[2. 2. 2.]\n [2. 2. 2.]\n [2. 2. 2.]]\n<NDArray 3x3 @gpu(0)>"
      ]
     },
     "execution_count": 32,
     "metadata": {},
     "output_type": "execute_result"
    }
   ],
   "source": [
    "m + a_gpu"
   ]
  },
  {
   "cell_type": "code",
   "execution_count": 33,
   "metadata": {},
   "outputs": [
    {
     "data": {
      "text/plain": [
       "\n[[2. 2. 2.]\n [2. 2. 2.]\n [2. 2. 2.]]\n<NDArray 3x3 @gpu(0)>"
      ]
     },
     "execution_count": 33,
     "metadata": {},
     "output_type": "execute_result"
    }
   ],
   "source": [
    "m + a_gpu"
   ]
  },
  {
   "cell_type": "code",
   "execution_count": null,
   "metadata": {},
   "outputs": [],
   "source": [
    ""
   ]
  }
 ],
 "metadata": {
  "kernelspec": {
   "display_name": "Python 2",
   "language": "python",
   "name": "python2"
  },
  "language_info": {
   "codemirror_mode": {
    "name": "ipython",
    "version": 2
   },
   "file_extension": ".py",
   "mimetype": "text/x-python",
   "name": "python",
   "nbconvert_exporter": "python",
   "pygments_lexer": "ipython2",
   "version": "2.7.6"
  }
 },
 "nbformat": 4,
 "nbformat_minor": 0
}
