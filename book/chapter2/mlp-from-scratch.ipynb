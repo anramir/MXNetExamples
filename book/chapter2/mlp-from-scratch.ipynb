{
 "cells": [
  {
   "cell_type": "code",
   "execution_count": 18,
   "metadata": {
    "collapsed": true
   },
   "outputs": [],
   "source": [
    "import mxnet as mx\n",
    "from mxnet import nd, autograd, gluon\n",
    "import numpy as np\n",
    "from __future__ import print_function"
   ]
  },
  {
   "cell_type": "code",
   "execution_count": 19,
   "metadata": {},
   "outputs": [],
   "source": [
    "data_ctx = mx.cpu()\n",
    "model_ctx = mx.gpu(0)"
   ]
  },
  {
   "cell_type": "code",
   "execution_count": 20,
   "metadata": {},
   "outputs": [],
   "source": [
    "num_inputs = 28 * 28\n",
    "num_labels = 10\n",
    "batch_size = 64"
   ]
  },
  {
   "cell_type": "code",
   "execution_count": 23,
   "metadata": {},
   "outputs": [
    {
     "name": "stderr",
     "output_type": "stream",
     "text": [
      "D:\\Miniconda3\\envs\\ai-mxnet\\lib\\site-packages\\mxnet\\gluon\\data\\vision.py:118: DeprecationWarning: The binary mode of fromstring is deprecated, as it behaves surprisingly on unicode inputs. Use frombuffer instead\n  label = np.fromstring(fin.read(), dtype=np.uint8).astype(np.int32)\n"
     ]
    },
    {
     "name": "stderr",
     "output_type": "stream",
     "text": [
      "D:\\Miniconda3\\envs\\ai-mxnet\\lib\\site-packages\\mxnet\\gluon\\data\\vision.py:122: DeprecationWarning: The binary mode of fromstring is deprecated, as it behaves surprisingly on unicode inputs. Use frombuffer instead\n  data = np.fromstring(fin.read(), dtype=np.uint8)\n"
     ]
    }
   ],
   "source": [
    "def transform(data, label):\n",
    "    return (data.astype(np.float32) / 255, label.astype(np.float32))\n",
    "\n",
    "train_data = gluon.data.DataLoader(mx.gluon.data.vision.MNIST(train = True, transform=transform), batch_size = batch_size, shuffle = True)\n",
    "test_data = gluon.data.DataLoader(mx.gluon.data.vision.MNIST(train = False, transform=transform), batch_size = batch_size, shuffle = False)"
   ]
  },
  {
   "cell_type": "code",
   "execution_count": 27,
   "metadata": {},
   "outputs": [],
   "source": [
    "num_hidden_1 = 512\n",
    "weight_scale = 0.01\n",
    "W1 = nd.random_normal(shape=(num_inputs, num_hidden_1), ctx=model_ctx, scale=weight_scale)\n",
    "b1 = nd.random_normal(shape=num_hidden_1, ctx=model_ctx, scale=weight_scale)\n",
    "\n",
    "num_hidden_2 = 256\n",
    "W2 = nd.random_normal(shape=(num_hidden_1, num_hidden_2), ctx=model_ctx, scale=weight_scale)\n",
    "b2 = nd.random_normal(shape=num_hidden_2, ctx=model_ctx, scale=weight_scale)\n",
    "\n",
    "W3 = nd.random_normal(shape=(num_hidden_2, num_labels), ctx=model_ctx, scale=weight_scale)\n",
    "b3 = nd.random_normal(shape=num_labels, ctx=model_ctx, scale=weight_scale)\n",
    "\n",
    "params = [W1, W2, W3, b1, b2, b3]"
   ]
  },
  {
   "cell_type": "code",
   "execution_count": 28,
   "metadata": {},
   "outputs": [],
   "source": [
    "for param in params:\n",
    "    param.attach_grad()"
   ]
  },
  {
   "cell_type": "code",
   "execution_count": 29,
   "metadata": {},
   "outputs": [],
   "source": [
    "def relu(z):\n",
    "    return nd.maximum(z, nd.zeros_like(z))"
   ]
  },
  {
   "cell_type": "code",
   "execution_count": 30,
   "metadata": {},
   "outputs": [],
   "source": [
    "def net(X):\n",
    "    with autograd.record():\n",
    "        z1 = nd.dot(X,W1) + b1\n",
    "        a1 = relu(z1)\n",
    "        z2 = nd.dot(a1, W2) + b2\n",
    "        a2 = relu(z2)\n",
    "        return nd.dot(a2, W3) + b3\n"
   ]
  },
  {
   "cell_type": "code",
   "execution_count": 31,
   "metadata": {},
   "outputs": [],
   "source": [
    "def SGD(params, lr):\n",
    "    for param in params:\n",
    "        param[:] = param - lr * param.grad"
   ]
  },
  {
   "cell_type": "code",
   "execution_count": 32,
   "metadata": {},
   "outputs": [],
   "source": [
    "def softmax_cross_entropy(y_hat_linear, y):\n",
    "    return - nd.nansum(y * nd.log_softmax(y_hat_linear), axis=0, exclude=True)"
   ]
  },
  {
   "cell_type": "code",
   "execution_count": 33,
   "metadata": {},
   "outputs": [],
   "source": [
    "def evaluate_accuracy(data_iterator, net):\n",
    "    numerator = 0.\n",
    "    denominator = 0.\n",
    "    for i, (data, label) in enumerate(data_iterator):\n",
    "        data_in_context = data.as_in_context(model_ctx).reshape((-1, num_inputs))\n",
    "        label_in_context = data.as_in_context(model_ctx)\n",
    "        output = net(data_in_context)\n",
    "        predictions = nd.argmax(output, axis=1)\n",
    "        numerator += nd.sum(predictions==label_in_context)\n",
    "        denominator += data.shape[0]\n",
    "    return (numerator / denominator).asscalar()"
   ]
  },
  {
   "cell_type": "code",
   "execution_count": 34,
   "metadata": {},
   "outputs": [
    {
     "name": "stdout",
     "output_type": "stream",
     "text": [
      "Epoch 0, Loss: 22870.68608736992, Train acc: 4003.1692, Test acc: 4029.7202\n"
     ]
    },
    {
     "name": "stdout",
     "output_type": "stream",
     "text": [
      "Epoch 1, Loss: 6371.416874974966, Train acc: 4151.567, Test acc: 4212.765\n"
     ]
    },
    {
     "name": "stdout",
     "output_type": "stream",
     "text": [
      "Epoch 2, Loss: 4213.716894470155, Train acc: 4051.6733, Test acc: 4049.2307\n"
     ]
    },
    {
     "name": "stdout",
     "output_type": "stream",
     "text": [
      "Epoch 3, Loss: 3173.8502270430326, Train acc: 4035.6172, Test acc: 4033.7441\n"
     ]
    },
    {
     "name": "stdout",
     "output_type": "stream",
     "text": [
      "Epoch 4, Loss: 2337.6467812918127, Train acc: 4027.812, Test acc: 4012.6226\n"
     ]
    },
    {
     "name": "stdout",
     "output_type": "stream",
     "text": [
      "Epoch 5, Loss: 1874.0931830760092, Train acc: 4006.0989, Test acc: 3935.8035\n"
     ]
    },
    {
     "name": "stdout",
     "output_type": "stream",
     "text": [
      "Epoch 6, Loss: 1528.5914667444304, Train acc: 4052.3386, Test acc: 4061.7146\n"
     ]
    },
    {
     "name": "stdout",
     "output_type": "stream",
     "text": [
      "Epoch 7, Loss: 1117.7837451065425, Train acc: 4034.6667, Test acc: 4009.0923\n"
     ]
    },
    {
     "name": "stdout",
     "output_type": "stream",
     "text": [
      "Epoch 8, Loss: 817.6338906649034, Train acc: 4056.0107, Test acc: 4097.613\n"
     ]
    },
    {
     "name": "stdout",
     "output_type": "stream",
     "text": [
      "Epoch 9, Loss: 697.2515440048883, Train acc: 4028.0862, Test acc: 4033.681\n"
     ]
    }
   ],
   "source": [
    "epochs = 10\n",
    "learning_rate = 0.01\n",
    "\n",
    "for epoch in range(epochs):\n",
    "    cumulative_loss = 0\n",
    "    for i, (data, label) in enumerate(train_data):\n",
    "        data_in_context = data.as_in_context(model_ctx).reshape((-1, num_inputs))\n",
    "        label_in_context = label.as_in_context(model_ctx)\n",
    "        label_one_hot = nd.one_hot(label_in_context, num_labels)\n",
    "        with autograd.record():\n",
    "            output = net(data_in_context)\n",
    "            loss = softmax_cross_entropy(output, label_one_hot)\n",
    "        loss.backward()\n",
    "        SGD(params, learning_rate)\n",
    "        cumulative_loss += nd.sum(loss).asscalar()\n",
    "    test_acc = evaluate_accuracy(test_data, net)\n",
    "    train_acc = evaluate_accuracy(train_data, net)\n",
    "    print(\"Epoch %s, Loss: %s, Train acc: %s, Test acc: %s\" %(epoch, cumulative_loss, train_acc, test_acc))"
   ]
  },
  {
   "cell_type": "code",
   "execution_count": null,
   "metadata": {},
   "outputs": [],
   "source": []
  }
 ],
 "metadata": {
  "kernelspec": {
   "display_name": "Python 2",
   "language": "python",
   "name": "python2"
  },
  "language_info": {
   "codemirror_mode": {
    "name": "ipython",
    "version": 2
   },
   "file_extension": ".py",
   "mimetype": "text/x-python",
   "name": "python",
   "nbconvert_exporter": "python",
   "pygments_lexer": "ipython2",
   "version": "2.7.6"
  }
 },
 "nbformat": 4,
 "nbformat_minor": 0
}
